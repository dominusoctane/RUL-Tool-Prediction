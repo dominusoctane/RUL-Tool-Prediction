{
  "nbformat": 4,
  "nbformat_minor": 0,
  "metadata": {
    "colab": {
      "provenance": [],
      "machine_shape": "hm"
    },
    "kernelspec": {
      "name": "python3",
      "display_name": "Python 3"
    },
    "language_info": {
      "name": "python"
    }
  },
  "cells": [
    {
      "cell_type": "code",
      "execution_count": null,
      "metadata": {
        "id": "23TOba33L4qf",
        "colab": {
          "base_uri": "https://localhost:8080/"
        },
        "outputId": "f94ac8b0-dc09-42b3-f995-ac9f45600632"
      },
      "outputs": [
        {
          "output_type": "stream",
          "name": "stdout",
          "text": [
            "Wed Dec 15 22:13:58 2021       \n",
            "+-----------------------------------------------------------------------------+\n",
            "| NVIDIA-SMI 495.44       Driver Version: 460.32.03    CUDA Version: 11.2     |\n",
            "|-------------------------------+----------------------+----------------------+\n",
            "| GPU  Name        Persistence-M| Bus-Id        Disp.A | Volatile Uncorr. ECC |\n",
            "| Fan  Temp  Perf  Pwr:Usage/Cap|         Memory-Usage | GPU-Util  Compute M. |\n",
            "|                               |                      |               MIG M. |\n",
            "|===============================+======================+======================|\n",
            "|   0  Tesla P100-PCIE...  Off  | 00000000:00:04.0 Off |                    0 |\n",
            "| N/A   39C    P0    27W / 250W |      0MiB / 16280MiB |      0%      Default |\n",
            "|                               |                      |                  N/A |\n",
            "+-------------------------------+----------------------+----------------------+\n",
            "                                                                               \n",
            "+-----------------------------------------------------------------------------+\n",
            "| Processes:                                                                  |\n",
            "|  GPU   GI   CI        PID   Type   Process name                  GPU Memory |\n",
            "|        ID   ID                                                   Usage      |\n",
            "|=============================================================================|\n",
            "|  No running processes found                                                 |\n",
            "+-----------------------------------------------------------------------------+\n"
          ]
        }
      ],
      "source": [
        "gpu_info = !nvidia-smi\n",
        "gpu_info = '\\n'.join(gpu_info)\n",
        "if gpu_info.find('failed') >= 0:\n",
        "  print('Not connected to a GPU')\n",
        "else:\n",
        "  print(gpu_info)"
      ]
    },
    {
      "cell_type": "code",
      "execution_count": null,
      "metadata": {
        "id": "pU9cucvykauz",
        "colab": {
          "base_uri": "https://localhost:8080/"
        },
        "outputId": "9b46f0cb-6307-46d1-b177-b8d1a09362a1"
      },
      "outputs": [
        {
          "output_type": "stream",
          "name": "stdout",
          "text": [
            "Your runtime has 54.8 gigabytes of available RAM\n",
            "\n",
            "You are using a high-RAM runtime!\n"
          ]
        }
      ],
      "source": [
        "from psutil import virtual_memory\n",
        "ram_gb = virtual_memory().total / 1e9\n",
        "print('Your runtime has {:.1f} gigabytes of available RAM\\n'.format(ram_gb))\n",
        "\n",
        "if ram_gb < 20:\n",
        "  print('Not using a high-RAM runtime')\n",
        "else:\n",
        "  print('You are using a high-RAM runtime!')"
      ]
    },
    {
      "cell_type": "code",
      "source": [
        "import sys\n",
        "sys.path.append('/content/gdrive/')"
      ],
      "metadata": {
        "id": "0VSRLWwkD3Gk"
      },
      "execution_count": null,
      "outputs": []
    },
    {
      "cell_type": "code",
      "source": [
        "from google.colab import drive\n",
        "\n",
        "drive.mount('/content/gdrive', force_remount=True)"
      ],
      "metadata": {
        "colab": {
          "base_uri": "https://localhost:8080/"
        },
        "id": "Z4N7hCqrKaTy",
        "outputId": "b8794654-a615-485b-a4ca-bfe5d7ab7cce"
      },
      "execution_count": null,
      "outputs": [
        {
          "output_type": "stream",
          "name": "stdout",
          "text": [
            "Mounted at /content/gdrive\n"
          ]
        }
      ]
    },
    {
      "cell_type": "code",
      "source": [
        "import os"
      ],
      "metadata": {
        "id": "8isxXHnvKdoc"
      },
      "execution_count": null,
      "outputs": []
    },
    {
      "cell_type": "code",
      "source": [
        "training_1=\"/Training Data-01/Training Data-01/Sensor/\"\n",
        "plc_1=\"/Training Data-01/Training Data-01/PLC/\""
      ],
      "metadata": {
        "id": "rhYN_z0nOD5r"
      },
      "execution_count": null,
      "outputs": []
    },
    {
      "cell_type": "code",
      "source": [
        "import pandas as pd\n",
        "from os.path import exists"
      ],
      "metadata": {
        "id": "H50pVt7-Mg4Y"
      },
      "execution_count": null,
      "outputs": []
    },
    {
      "cell_type": "code",
      "source": [
        "main_path=\"/content/gdrive/MyDrive/COEN 4890 Final\""
      ],
      "metadata": {
        "id": "vmchMNzFLWUC"
      },
      "execution_count": null,
      "outputs": []
    },
    {
      "cell_type": "code",
      "source": [
        "sensor1_data = pd.DataFrame()\n",
        "bad_list=[]\n",
        "csv_length=[]\n",
        "for i in range(48):\n",
        "  path_to_file = main_path + training_1 + str(1+i) + '.csv'\n",
        "\n",
        "  if exists(path_to_file):\n",
        "    #print(\"True\")\n",
        "    training_data = pd.read_csv(path_to_file)\n",
        "    csv_length.append(len(training_data))\n",
        "    training_data['csv_no'] = i+1\n",
        "    sensor1_data=sensor1_data.append(training_data, ignore_index=True)\n",
        "  else:\n",
        "    bad_list.append(i+1)\n"
      ],
      "metadata": {
        "id": "eFgc_idZO1t4"
      },
      "execution_count": null,
      "outputs": []
    },
    {
      "cell_type": "code",
      "source": [
        "csv_length"
      ],
      "metadata": {
        "colab": {
          "base_uri": "https://localhost:8080/"
        },
        "id": "xPPT1d4IAni-",
        "outputId": "e20ab83d-5099-4f03-b74a-6725190df507"
      },
      "execution_count": null,
      "outputs": [
        {
          "output_type": "execute_result",
          "data": {
            "text/plain": [
              "[1548800,\n",
              " 1548800,\n",
              " 1548800,\n",
              " 1548800,\n",
              " 1536000,\n",
              " 1548800,\n",
              " 1548800,\n",
              " 1548800,\n",
              " 1548800,\n",
              " 1548800,\n",
              " 1548800,\n",
              " 1548800,\n",
              " 652800,\n",
              " 1548800,\n",
              " 1548800,\n",
              " 1548800,\n",
              " 1548800,\n",
              " 1548800,\n",
              " 1536000,\n",
              " 1548800,\n",
              " 1548800,\n",
              " 1548800,\n",
              " 1548800,\n",
              " 1548800,\n",
              " 1536000,\n",
              " 1548800,\n",
              " 1548800,\n",
              " 1548800,\n",
              " 1548800,\n",
              " 1548800,\n",
              " 1548800,\n",
              " 1536000,\n",
              " 1548800,\n",
              " 1548800,\n",
              " 1548800,\n",
              " 1548800,\n",
              " 1548800,\n",
              " 1536000,\n",
              " 1548800,\n",
              " 1548800,\n",
              " 1548800,\n",
              " 1548800,\n",
              " 1548800,\n",
              " 1548800,\n",
              " 1548800,\n",
              " 1548800,\n",
              " 1548800]"
            ]
          },
          "metadata": {},
          "execution_count": 40
        }
      ]
    },
    {
      "cell_type": "code",
      "source": [
        "plc_data=pd.read_csv(main_path+plc_1+'plc.csv')"
      ],
      "metadata": {
        "id": "dH1uLwWzeSRC"
      },
      "execution_count": null,
      "outputs": []
    },
    {
      "cell_type": "code",
      "source": [
        "plc_data"
      ],
      "metadata": {
        "colab": {
          "base_uri": "https://localhost:8080/",
          "height": 424
        },
        "id": "YFkGJSH7BcRc",
        "outputId": "abedd6fb-4f67-43bf-ed32-a24b8a5ec835"
      },
      "execution_count": null,
      "outputs": [
        {
          "output_type": "execute_result",
          "data": {
            "text/html": [
              "<div>\n",
              "<style scoped>\n",
              "    .dataframe tbody tr th:only-of-type {\n",
              "        vertical-align: middle;\n",
              "    }\n",
              "\n",
              "    .dataframe tbody tr th {\n",
              "        vertical-align: top;\n",
              "    }\n",
              "\n",
              "    .dataframe thead th {\n",
              "        text-align: right;\n",
              "    }\n",
              "</style>\n",
              "<table border=\"1\" class=\"dataframe\">\n",
              "  <thead>\n",
              "    <tr style=\"text-align: right;\">\n",
              "      <th></th>\n",
              "      <th>time</th>\n",
              "      <th>spindle_load</th>\n",
              "      <th>x</th>\n",
              "      <th>y</th>\n",
              "      <th>z</th>\n",
              "      <th>csv_no</th>\n",
              "    </tr>\n",
              "  </thead>\n",
              "  <tbody>\n",
              "    <tr>\n",
              "      <th>0</th>\n",
              "      <td>11:28:07:127</td>\n",
              "      <td>0.082400</td>\n",
              "      <td>-20.9572</td>\n",
              "      <td>-17.6915</td>\n",
              "      <td>-89.6468</td>\n",
              "      <td>1</td>\n",
              "    </tr>\n",
              "    <tr>\n",
              "      <th>1</th>\n",
              "      <td>11:28:07:137</td>\n",
              "      <td>0.082400</td>\n",
              "      <td>-20.9572</td>\n",
              "      <td>-17.6915</td>\n",
              "      <td>-89.6468</td>\n",
              "      <td>1</td>\n",
              "    </tr>\n",
              "    <tr>\n",
              "      <th>2</th>\n",
              "      <td>11:28:07:147</td>\n",
              "      <td>0.082400</td>\n",
              "      <td>-20.9572</td>\n",
              "      <td>-17.6915</td>\n",
              "      <td>-89.6468</td>\n",
              "      <td>1</td>\n",
              "    </tr>\n",
              "    <tr>\n",
              "      <th>3</th>\n",
              "      <td>11:28:07:157</td>\n",
              "      <td>0.082400</td>\n",
              "      <td>-20.9572</td>\n",
              "      <td>-17.6915</td>\n",
              "      <td>-89.6468</td>\n",
              "      <td>1</td>\n",
              "    </tr>\n",
              "    <tr>\n",
              "      <th>4</th>\n",
              "      <td>11:28:07:167</td>\n",
              "      <td>0.082400</td>\n",
              "      <td>-20.9572</td>\n",
              "      <td>-17.6915</td>\n",
              "      <td>-89.6468</td>\n",
              "      <td>1</td>\n",
              "    </tr>\n",
              "    <tr>\n",
              "      <th>...</th>\n",
              "      <td>...</td>\n",
              "      <td>...</td>\n",
              "      <td>...</td>\n",
              "      <td>...</td>\n",
              "      <td>...</td>\n",
              "      <td>...</td>\n",
              "    </tr>\n",
              "    <tr>\n",
              "      <th>110022</th>\n",
              "      <td>16:28:59:803</td>\n",
              "      <td>0.006104</td>\n",
              "      <td>-1.1088</td>\n",
              "      <td>-201.1264</td>\n",
              "      <td>-86.2070</td>\n",
              "      <td>48</td>\n",
              "    </tr>\n",
              "    <tr>\n",
              "      <th>110023</th>\n",
              "      <td>16:28:59:813</td>\n",
              "      <td>0.006104</td>\n",
              "      <td>-1.1088</td>\n",
              "      <td>-201.1264</td>\n",
              "      <td>-86.2070</td>\n",
              "      <td>48</td>\n",
              "    </tr>\n",
              "    <tr>\n",
              "      <th>110024</th>\n",
              "      <td>16:28:59:973</td>\n",
              "      <td>0.006104</td>\n",
              "      <td>-1.1088</td>\n",
              "      <td>-201.1264</td>\n",
              "      <td>-86.2070</td>\n",
              "      <td>48</td>\n",
              "    </tr>\n",
              "    <tr>\n",
              "      <th>110025</th>\n",
              "      <td>16:28:59:983</td>\n",
              "      <td>0.006104</td>\n",
              "      <td>-1.1088</td>\n",
              "      <td>-201.1264</td>\n",
              "      <td>-86.2070</td>\n",
              "      <td>48</td>\n",
              "    </tr>\n",
              "    <tr>\n",
              "      <th>110026</th>\n",
              "      <td>16:28:59:993</td>\n",
              "      <td>0.006104</td>\n",
              "      <td>-1.1088</td>\n",
              "      <td>-201.1264</td>\n",
              "      <td>-86.2070</td>\n",
              "      <td>48</td>\n",
              "    </tr>\n",
              "  </tbody>\n",
              "</table>\n",
              "<p>110027 rows × 6 columns</p>\n",
              "</div>"
            ],
            "text/plain": [
              "                time  spindle_load        x         y        z  csv_no\n",
              "0       11:28:07:127      0.082400 -20.9572  -17.6915 -89.6468       1\n",
              "1       11:28:07:137      0.082400 -20.9572  -17.6915 -89.6468       1\n",
              "2       11:28:07:147      0.082400 -20.9572  -17.6915 -89.6468       1\n",
              "3       11:28:07:157      0.082400 -20.9572  -17.6915 -89.6468       1\n",
              "4       11:28:07:167      0.082400 -20.9572  -17.6915 -89.6468       1\n",
              "...              ...           ...      ...       ...      ...     ...\n",
              "110022  16:28:59:803      0.006104  -1.1088 -201.1264 -86.2070      48\n",
              "110023  16:28:59:813      0.006104  -1.1088 -201.1264 -86.2070      48\n",
              "110024  16:28:59:973      0.006104  -1.1088 -201.1264 -86.2070      48\n",
              "110025  16:28:59:983      0.006104  -1.1088 -201.1264 -86.2070      48\n",
              "110026  16:28:59:993      0.006104  -1.1088 -201.1264 -86.2070      48\n",
              "\n",
              "[110027 rows x 6 columns]"
            ]
          },
          "metadata": {},
          "execution_count": 41
        }
      ]
    },
    {
      "cell_type": "code",
      "source": [
        "result_df = plc_data.drop_duplicates(keep='last',ignore_index=True)\n"
      ],
      "metadata": {
        "id": "OC97cSknCLYv"
      },
      "execution_count": null,
      "outputs": []
    },
    {
      "cell_type": "code",
      "source": [
        "result_df"
      ],
      "metadata": {
        "colab": {
          "base_uri": "https://localhost:8080/",
          "height": 424
        },
        "id": "Zvb-Ha9HCPkT",
        "outputId": "cf77d6e9-0c9d-4a7d-e02d-4d9b1ad877f7"
      },
      "execution_count": null,
      "outputs": [
        {
          "output_type": "execute_result",
          "data": {
            "text/html": [
              "<div>\n",
              "<style scoped>\n",
              "    .dataframe tbody tr th:only-of-type {\n",
              "        vertical-align: middle;\n",
              "    }\n",
              "\n",
              "    .dataframe tbody tr th {\n",
              "        vertical-align: top;\n",
              "    }\n",
              "\n",
              "    .dataframe thead th {\n",
              "        text-align: right;\n",
              "    }\n",
              "</style>\n",
              "<table border=\"1\" class=\"dataframe\">\n",
              "  <thead>\n",
              "    <tr style=\"text-align: right;\">\n",
              "      <th></th>\n",
              "      <th>time</th>\n",
              "      <th>spindle_load</th>\n",
              "      <th>x</th>\n",
              "      <th>y</th>\n",
              "      <th>z</th>\n",
              "      <th>csv_no</th>\n",
              "    </tr>\n",
              "  </thead>\n",
              "  <tbody>\n",
              "    <tr>\n",
              "      <th>0</th>\n",
              "      <td>11:28:07:127</td>\n",
              "      <td>0.082400</td>\n",
              "      <td>-20.9572</td>\n",
              "      <td>-17.6915</td>\n",
              "      <td>-89.6468</td>\n",
              "      <td>1</td>\n",
              "    </tr>\n",
              "    <tr>\n",
              "      <th>1</th>\n",
              "      <td>11:28:07:137</td>\n",
              "      <td>0.082400</td>\n",
              "      <td>-20.9572</td>\n",
              "      <td>-17.6915</td>\n",
              "      <td>-89.6468</td>\n",
              "      <td>1</td>\n",
              "    </tr>\n",
              "    <tr>\n",
              "      <th>2</th>\n",
              "      <td>11:28:07:147</td>\n",
              "      <td>0.082400</td>\n",
              "      <td>-20.9572</td>\n",
              "      <td>-17.6915</td>\n",
              "      <td>-89.6468</td>\n",
              "      <td>1</td>\n",
              "    </tr>\n",
              "    <tr>\n",
              "      <th>3</th>\n",
              "      <td>11:28:07:157</td>\n",
              "      <td>0.082400</td>\n",
              "      <td>-20.9572</td>\n",
              "      <td>-17.6915</td>\n",
              "      <td>-89.6468</td>\n",
              "      <td>1</td>\n",
              "    </tr>\n",
              "    <tr>\n",
              "      <th>4</th>\n",
              "      <td>11:28:07:167</td>\n",
              "      <td>0.082400</td>\n",
              "      <td>-20.9572</td>\n",
              "      <td>-17.6915</td>\n",
              "      <td>-89.6468</td>\n",
              "      <td>1</td>\n",
              "    </tr>\n",
              "    <tr>\n",
              "      <th>...</th>\n",
              "      <td>...</td>\n",
              "      <td>...</td>\n",
              "      <td>...</td>\n",
              "      <td>...</td>\n",
              "      <td>...</td>\n",
              "      <td>...</td>\n",
              "    </tr>\n",
              "    <tr>\n",
              "      <th>110022</th>\n",
              "      <td>16:28:59:803</td>\n",
              "      <td>0.006104</td>\n",
              "      <td>-1.1088</td>\n",
              "      <td>-201.1264</td>\n",
              "      <td>-86.2070</td>\n",
              "      <td>48</td>\n",
              "    </tr>\n",
              "    <tr>\n",
              "      <th>110023</th>\n",
              "      <td>16:28:59:813</td>\n",
              "      <td>0.006104</td>\n",
              "      <td>-1.1088</td>\n",
              "      <td>-201.1264</td>\n",
              "      <td>-86.2070</td>\n",
              "      <td>48</td>\n",
              "    </tr>\n",
              "    <tr>\n",
              "      <th>110024</th>\n",
              "      <td>16:28:59:973</td>\n",
              "      <td>0.006104</td>\n",
              "      <td>-1.1088</td>\n",
              "      <td>-201.1264</td>\n",
              "      <td>-86.2070</td>\n",
              "      <td>48</td>\n",
              "    </tr>\n",
              "    <tr>\n",
              "      <th>110025</th>\n",
              "      <td>16:28:59:983</td>\n",
              "      <td>0.006104</td>\n",
              "      <td>-1.1088</td>\n",
              "      <td>-201.1264</td>\n",
              "      <td>-86.2070</td>\n",
              "      <td>48</td>\n",
              "    </tr>\n",
              "    <tr>\n",
              "      <th>110026</th>\n",
              "      <td>16:28:59:993</td>\n",
              "      <td>0.006104</td>\n",
              "      <td>-1.1088</td>\n",
              "      <td>-201.1264</td>\n",
              "      <td>-86.2070</td>\n",
              "      <td>48</td>\n",
              "    </tr>\n",
              "  </tbody>\n",
              "</table>\n",
              "<p>110027 rows × 6 columns</p>\n",
              "</div>"
            ],
            "text/plain": [
              "                time  spindle_load        x         y        z  csv_no\n",
              "0       11:28:07:127      0.082400 -20.9572  -17.6915 -89.6468       1\n",
              "1       11:28:07:137      0.082400 -20.9572  -17.6915 -89.6468       1\n",
              "2       11:28:07:147      0.082400 -20.9572  -17.6915 -89.6468       1\n",
              "3       11:28:07:157      0.082400 -20.9572  -17.6915 -89.6468       1\n",
              "4       11:28:07:167      0.082400 -20.9572  -17.6915 -89.6468       1\n",
              "...              ...           ...      ...       ...      ...     ...\n",
              "110022  16:28:59:803      0.006104  -1.1088 -201.1264 -86.2070      48\n",
              "110023  16:28:59:813      0.006104  -1.1088 -201.1264 -86.2070      48\n",
              "110024  16:28:59:973      0.006104  -1.1088 -201.1264 -86.2070      48\n",
              "110025  16:28:59:983      0.006104  -1.1088 -201.1264 -86.2070      48\n",
              "110026  16:28:59:993      0.006104  -1.1088 -201.1264 -86.2070      48\n",
              "\n",
              "[110027 rows x 6 columns]"
            ]
          },
          "metadata": {},
          "execution_count": 43
        }
      ]
    },
    {
      "cell_type": "code",
      "source": [
        "len(plc_data[plc_data['csv_no']==1])"
      ],
      "metadata": {
        "colab": {
          "base_uri": "https://localhost:8080/"
        },
        "id": "201wPzp5_8A0",
        "outputId": "01514a8b-a1f3-401b-df6b-17369f73bba2"
      },
      "execution_count": null,
      "outputs": [
        {
          "output_type": "execute_result",
          "data": {
            "text/plain": [
              "2045"
            ]
          },
          "metadata": {},
          "execution_count": 36
        }
      ]
    },
    {
      "cell_type": "code",
      "source": [
        "len(plc_data[plc_data['csv_no']==2])"
      ],
      "metadata": {
        "colab": {
          "base_uri": "https://localhost:8080/"
        },
        "id": "xJDYk4Z0AIsv",
        "outputId": "0dee2434-ba59-43ce-ecce-a416708cd887"
      },
      "execution_count": null,
      "outputs": [
        {
          "output_type": "execute_result",
          "data": {
            "text/plain": [
              "2327"
            ]
          },
          "metadata": {},
          "execution_count": 37
        }
      ]
    },
    {
      "cell_type": "code",
      "source": [
        "# assumptions: 1 csv file takes 5 minutes; 240 minutes for 48 csv files\n",
        "total_csv_time=1*60*1000 #milliseconds\n",
        "time_per_row=total_csv_time/len(training_data)"
      ],
      "metadata": {
        "id": "JEIQJLP_QIay"
      },
      "execution_count": null,
      "outputs": []
    },
    {
      "cell_type": "code",
      "source": [
        "sensor1_data.head()"
      ],
      "metadata": {
        "id": "VMF7ERVtQha6",
        "colab": {
          "base_uri": "https://localhost:8080/",
          "height": 206
        },
        "outputId": "98cd74f0-aeee-471d-a8b3-92e5406a01cc"
      },
      "execution_count": null,
      "outputs": [
        {
          "output_type": "execute_result",
          "data": {
            "text/html": [
              "<div>\n",
              "<style scoped>\n",
              "    .dataframe tbody tr th:only-of-type {\n",
              "        vertical-align: middle;\n",
              "    }\n",
              "\n",
              "    .dataframe tbody tr th {\n",
              "        vertical-align: top;\n",
              "    }\n",
              "\n",
              "    .dataframe thead th {\n",
              "        text-align: right;\n",
              "    }\n",
              "</style>\n",
              "<table border=\"1\" class=\"dataframe\">\n",
              "  <thead>\n",
              "    <tr style=\"text-align: right;\">\n",
              "      <th></th>\n",
              "      <th>vibration_1</th>\n",
              "      <th>vibration_2</th>\n",
              "      <th>vibration_3</th>\n",
              "      <th>current</th>\n",
              "      <th>csv_no</th>\n",
              "    </tr>\n",
              "  </thead>\n",
              "  <tbody>\n",
              "    <tr>\n",
              "      <th>0</th>\n",
              "      <td>0.024189</td>\n",
              "      <td>-0.013899</td>\n",
              "      <td>0.045651</td>\n",
              "      <td>-31.837665</td>\n",
              "      <td>1</td>\n",
              "    </tr>\n",
              "    <tr>\n",
              "      <th>1</th>\n",
              "      <td>0.043586</td>\n",
              "      <td>-0.012801</td>\n",
              "      <td>0.027327</td>\n",
              "      <td>-32.089322</td>\n",
              "      <td>1</td>\n",
              "    </tr>\n",
              "    <tr>\n",
              "      <th>2</th>\n",
              "      <td>0.038096</td>\n",
              "      <td>-0.000727</td>\n",
              "      <td>0.029770</td>\n",
              "      <td>-31.975896</td>\n",
              "      <td>1</td>\n",
              "    </tr>\n",
              "    <tr>\n",
              "      <th>3</th>\n",
              "      <td>0.032973</td>\n",
              "      <td>-0.014143</td>\n",
              "      <td>0.050782</td>\n",
              "      <td>-32.031778</td>\n",
              "      <td>1</td>\n",
              "    </tr>\n",
              "    <tr>\n",
              "      <th>4</th>\n",
              "      <td>0.037608</td>\n",
              "      <td>-0.027193</td>\n",
              "      <td>0.064097</td>\n",
              "      <td>-31.946010</td>\n",
              "      <td>1</td>\n",
              "    </tr>\n",
              "  </tbody>\n",
              "</table>\n",
              "</div>"
            ],
            "text/plain": [
              "   vibration_1  vibration_2  vibration_3    current  csv_no\n",
              "0     0.024189    -0.013899     0.045651 -31.837665       1\n",
              "1     0.043586    -0.012801     0.027327 -32.089322       1\n",
              "2     0.038096    -0.000727     0.029770 -31.975896       1\n",
              "3     0.032973    -0.014143     0.050782 -32.031778       1\n",
              "4     0.037608    -0.027193     0.064097 -31.946010       1"
            ]
          },
          "metadata": {},
          "execution_count": 22
        }
      ]
    },
    {
      "cell_type": "code",
      "source": [
        "sensor1_data.describe()"
      ],
      "metadata": {
        "colab": {
          "base_uri": "https://localhost:8080/",
          "height": 300
        },
        "id": "2JA45-xURKLA",
        "outputId": "a4499839-1275-43e5-d4c9-9aafa2292fa1"
      },
      "execution_count": null,
      "outputs": [
        {
          "output_type": "execute_result",
          "data": {
            "text/html": [
              "<div>\n",
              "<style scoped>\n",
              "    .dataframe tbody tr th:only-of-type {\n",
              "        vertical-align: middle;\n",
              "    }\n",
              "\n",
              "    .dataframe tbody tr th {\n",
              "        vertical-align: top;\n",
              "    }\n",
              "\n",
              "    .dataframe thead th {\n",
              "        text-align: right;\n",
              "    }\n",
              "</style>\n",
              "<table border=\"1\" class=\"dataframe\">\n",
              "  <thead>\n",
              "    <tr style=\"text-align: right;\">\n",
              "      <th></th>\n",
              "      <th>vibration_1</th>\n",
              "      <th>vibration_2</th>\n",
              "      <th>vibration_3</th>\n",
              "      <th>current</th>\n",
              "      <th>csv_no</th>\n",
              "    </tr>\n",
              "  </thead>\n",
              "  <tbody>\n",
              "    <tr>\n",
              "      <th>count</th>\n",
              "      <td>7.183360e+07</td>\n",
              "      <td>7.183360e+07</td>\n",
              "      <td>7.183358e+07</td>\n",
              "      <td>7.183360e+07</td>\n",
              "      <td>7.183360e+07</td>\n",
              "    </tr>\n",
              "    <tr>\n",
              "      <th>mean</th>\n",
              "      <td>3.159460e-02</td>\n",
              "      <td>inf</td>\n",
              "      <td>NaN</td>\n",
              "      <td>-6.044477e-01</td>\n",
              "      <td>2.430987e+01</td>\n",
              "    </tr>\n",
              "    <tr>\n",
              "      <th>std</th>\n",
              "      <td>2.285712e+00</td>\n",
              "      <td>inf</td>\n",
              "      <td>NaN</td>\n",
              "      <td>3.473669e+01</td>\n",
              "      <td>1.384334e+01</td>\n",
              "    </tr>\n",
              "    <tr>\n",
              "      <th>min</th>\n",
              "      <td>-2.333084e+01</td>\n",
              "      <td>-1.731969e+308</td>\n",
              "      <td>-1.682783e+308</td>\n",
              "      <td>-6.867473e+01</td>\n",
              "      <td>1.000000e+00</td>\n",
              "    </tr>\n",
              "    <tr>\n",
              "      <th>25%</th>\n",
              "      <td>-1.265071e+00</td>\n",
              "      <td>-1.106720e+00</td>\n",
              "      <td>-1.420746e+00</td>\n",
              "      <td>-3.464484e+01</td>\n",
              "      <td>1.200000e+01</td>\n",
              "    </tr>\n",
              "    <tr>\n",
              "      <th>50%</th>\n",
              "      <td>3.443649e-02</td>\n",
              "      <td>3.176286e-03</td>\n",
              "      <td>4.483549e-03</td>\n",
              "      <td>-3.930485e-01</td>\n",
              "      <td>2.400000e+01</td>\n",
              "    </tr>\n",
              "    <tr>\n",
              "      <th>75%</th>\n",
              "      <td>1.312839e+00</td>\n",
              "      <td>1.111365e+00</td>\n",
              "      <td>1.357883e+00</td>\n",
              "      <td>3.386200e+01</td>\n",
              "      <td>3.600000e+01</td>\n",
              "    </tr>\n",
              "    <tr>\n",
              "      <th>max</th>\n",
              "      <td>2.336519e+01</td>\n",
              "      <td>1.614959e+308</td>\n",
              "      <td>1.674493e+308</td>\n",
              "      <td>6.809106e+01</td>\n",
              "      <td>4.800000e+01</td>\n",
              "    </tr>\n",
              "  </tbody>\n",
              "</table>\n",
              "</div>"
            ],
            "text/plain": [
              "        vibration_1    vibration_2    vibration_3       current        csv_no\n",
              "count  7.183360e+07   7.183360e+07   7.183358e+07  7.183360e+07  7.183360e+07\n",
              "mean   3.159460e-02            inf            NaN -6.044477e-01  2.430987e+01\n",
              "std    2.285712e+00            inf            NaN  3.473669e+01  1.384334e+01\n",
              "min   -2.333084e+01 -1.731969e+308 -1.682783e+308 -6.867473e+01  1.000000e+00\n",
              "25%   -1.265071e+00  -1.106720e+00  -1.420746e+00 -3.464484e+01  1.200000e+01\n",
              "50%    3.443649e-02   3.176286e-03   4.483549e-03 -3.930485e-01  2.400000e+01\n",
              "75%    1.312839e+00   1.111365e+00   1.357883e+00  3.386200e+01  3.600000e+01\n",
              "max    2.336519e+01  1.614959e+308  1.674493e+308  6.809106e+01  4.800000e+01"
            ]
          },
          "metadata": {},
          "execution_count": 14
        }
      ]
    },
    {
      "cell_type": "code",
      "source": [
        "normalized_df=(sensor1_data-sensor1_data.mean())/sensor1_data.std()"
      ],
      "metadata": {
        "colab": {
          "base_uri": "https://localhost:8080/"
        },
        "id": "Ge6JCe2MfuiM",
        "outputId": "69818a86-80b4-434b-9a8b-8f16ed9e1891"
      },
      "execution_count": null,
      "outputs": [
        {
          "output_type": "stream",
          "name": "stderr",
          "text": [
            "/usr/local/lib/python3.7/dist-packages/numpy/core/_methods.py:47: RuntimeWarning: overflow encountered in reduce\n",
            "  return umr_sum(a, axis, dtype, out, keepdims, initial, where)\n"
          ]
        }
      ]
    },
    {
      "cell_type": "code",
      "metadata": {
        "id": "-FLxGN2xaz-Y",
        "colab": {
          "base_uri": "https://localhost:8080/"
        },
        "outputId": "7f3cd84a-7e60-4284-9d79-21c3fbbc8f44"
      },
      "source": [
        "import math\n",
        "\n",
        "Fs = 0 # number of samples per second\n"
      ],
      "execution_count": null,
      "outputs": [
        {
          "output_type": "stream",
          "name": "stdout",
          "text": [
            "BPFO =  95.0087198440758 [Hz]\n",
            "BPFI =  131.6579468225909 [Hz]\n",
            "BSF =  77.90856530396115 [Hz]\n"
          ]
        }
      ]
    },
    {
      "cell_type": "code",
      "source": [
        "train_features=sensor1_data.vibration_2.to_list()"
      ],
      "metadata": {
        "id": "wr3K73sj1Pom"
      },
      "execution_count": null,
      "outputs": []
    },
    {
      "cell_type": "code",
      "source": [
        "filtered_features=[]\n",
        "for x in train_features:\n",
        "  if 30>x>-30:\n",
        "    filtered_features.append(x)\n",
        "  else:\n",
        "    filtered_features.append(0)\n"
      ],
      "metadata": {
        "id": "_wy8Dhbjko8i"
      },
      "execution_count": null,
      "outputs": []
    },
    {
      "cell_type": "code",
      "source": [
        "len(filtered_features)"
      ],
      "metadata": {
        "colab": {
          "base_uri": "https://localhost:8080/"
        },
        "id": "1Iou1vyum9co",
        "outputId": "2b5bfd4b-b93b-4325-cd31-700b2cb59d5f"
      },
      "execution_count": null,
      "outputs": [
        {
          "output_type": "execute_result",
          "data": {
            "text/plain": [
              "71833600"
            ]
          },
          "metadata": {},
          "execution_count": 46
        }
      ]
    },
    {
      "cell_type": "code",
      "metadata": {
        "id": "Z50PIalZdlbP"
      },
      "source": [
        "import os\n",
        "import scipy.io\n",
        "\n",
        "import numpy as np\n",
        "import pandas as pd\n",
        "import matplotlib.pyplot as plt\n",
        "%matplotlib inline\n",
        "from mpl_toolkits.mplot3d import Axes3D\n",
        "\n",
        "from sklearn.preprocessing import StandardScaler"
      ],
      "execution_count": null,
      "outputs": []
    },
    {
      "cell_type": "code",
      "source": [
        "mean=np.mean(filtered_features)"
      ],
      "metadata": {
        "id": "htvJqazIXP8_"
      },
      "execution_count": null,
      "outputs": []
    },
    {
      "cell_type": "code",
      "source": [
        "normal_train_features=[x-mean for x in train_features]"
      ],
      "metadata": {
        "id": "2JwyrliSXnZA"
      },
      "execution_count": null,
      "outputs": []
    },
    {
      "cell_type": "code",
      "source": [
        "tot_time_steps = len(train_features)\n",
        "time_steps = np.linspace(0, (tot_time_steps/Fs) - (1/Fs),\n",
        "                    num = tot_time_steps,\n",
        "                    endpoint=False, retstep=False,\n",
        "                    dtype=None, axis=0)\n",
        "print(\"Time Series Array =\", time_steps)"
      ],
      "metadata": {
        "colab": {
          "base_uri": "https://localhost:8080/"
        },
        "id": "EUyktDTl3V4D",
        "outputId": "42acd039-ce8f-4767-a65a-c238c96ad6b3"
      },
      "execution_count": null,
      "outputs": [
        {
          "output_type": "stream",
          "name": "stdout",
          "text": [
            "Time Series Array = [0.00000000e+00 3.90624995e-05 7.81249989e-05 ... 2.80599984e+03\n",
            " 2.80599988e+03 2.80599992e+03]\n"
          ]
        }
      ]
    },
    {
      "cell_type": "code",
      "source": [
        "def frequency_domain_analysis(data, fs):\n",
        "    N = len(data)\n",
        "    Y = np.fft.fft(data)\n",
        "    Y = Y/N\n",
        "    freq = fs/2 *np.linspace(0,1,int(N/2),endpoint=True)\n",
        "    amp = 2 * np.abs(Y[0:int(N/2)])\n",
        "    amp[0] = amp[0]/2\n",
        "    return freq, amp"
      ],
      "metadata": {
        "id": "R4c0uGZN3gtO"
      },
      "execution_count": null,
      "outputs": []
    },
    {
      "cell_type": "code",
      "source": [
        "from scipy import signal, stats\n",
        "from scipy.signal import hilbert, firwin, lfilter"
      ],
      "metadata": {
        "id": "NzljTWmN6MYM"
      },
      "execution_count": null,
      "outputs": []
    },
    {
      "cell_type": "code",
      "source": [
        "bandpass = firwin(256, [2500,5000], nyq=0.5*Fs,pass_zero=False)"
      ],
      "metadata": {
        "id": "udkDOChP3nDR"
      },
      "execution_count": null,
      "outputs": []
    },
    {
      "cell_type": "code",
      "source": [
        "X_train.head()"
      ],
      "metadata": {
        "id": "CZPcY4q5ZI4t"
      },
      "execution_count": null,
      "outputs": []
    },
    {
      "cell_type": "code",
      "source": [
        "X_train.columns"
      ],
      "metadata": {
        "id": "ByvT3Cp5Z8ZB"
      },
      "execution_count": null,
      "outputs": []
    },
    {
      "cell_type": "code",
      "source": [
        "initialize_directory_1=[]\n",
        "\n",
        "initialize_directory_1 = lfilter(bandpass, 1.0, filtered_features)"
      ],
      "metadata": {
        "id": "PHmWswO6ZAnI"
      },
      "execution_count": null,
      "outputs": []
    },
    {
      "cell_type": "code",
      "source": [
        "plt.rcParams[\"legend.frameon\"] = True\n",
        "plt.rcParams['figure.figsize'] = [16, 6]\n",
        "\n",
        "plt.plot(time_steps, initialize_directory_1, color = 'k', label='Filtered Vibrational Signal')\n",
        "\n",
        "plt.xticks(fontsize=18)\n",
        "plt.yticks(fontsize=18)\n",
        "\n",
        "plt.xlabel(\"Time\", fontsize=20)\n",
        "plt.ylabel(\"Vibration\", fontsize=20)\n",
        "plt.title(\"Inner Race Defect\", fontsize=30)\n",
        "plt.legend(fontsize=20)\n",
        "\n",
        "plt.savefig('Signal2.png')\n",
        "plt.show()"
      ],
      "metadata": {
        "colab": {
          "base_uri": "https://localhost:8080/",
          "height": 434
        },
        "id": "0AOIyeYvb30G",
        "outputId": "784a8864-7cab-4406-e006-74fac2e8c30b"
      },
      "execution_count": null,
      "outputs": [
        {
          "output_type": "display_data",
          "data": {
            "image/png": "[encoded data removed]",
            "text/plain": [
              "<Figure size 1152x432 with 1 Axes>"
            ]
          },
          "metadata": {
            "needs_background": "light"
          }
        }
      ]
    },
    {
      "cell_type": "code",
      "source": [
        "# plt.rcParams[\"legend.frameon\"] = True\n",
        "# plt.rcParams['figure.figsize'] = [16, 6]\n",
        "\n",
        "# plt.plot(time_steps, initialize_directory_1<1, color = 'k', label='Filtered Vibrational Signal')\n",
        "\n",
        "# plt.xticks(fontsize=18)\n",
        "# plt.yticks(fontsize=18)\n",
        "\n",
        "# plt.xlabel(\"Time\", fontsize=20)\n",
        "# plt.ylabel(\"Vibration\", fontsize=20)\n",
        "# plt.title(\"Inner Race Defect\", fontsize=30)\n",
        "# plt.legend(fontsize=20)\n",
        "\n",
        "# plt.savefig('Signal.png')\n",
        "# plt.show()"
      ],
      "metadata": {
        "id": "B39BXz0idSxt"
      },
      "execution_count": null,
      "outputs": []
    }
  ]
}